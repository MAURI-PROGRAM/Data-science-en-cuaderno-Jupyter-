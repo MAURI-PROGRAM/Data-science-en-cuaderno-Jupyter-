{
 "cells": [
  {
   "cell_type": "code",
   "execution_count": 1,
   "metadata": {},
   "outputs": [],
   "source": [
    "import pandas as pd\n",
    "from sklearn.model_selection import train_test_split\n",
    "from sklearn.preprocessing import Imputer\n",
    "\n",
    "data = pd.read_csv('../input/train.csv')\n",
    "data.dropna(axis=0, subset=['SalePrice'], inplace=True)\n",
    "y = data.SalePrice\n",
    "X = data.drop(['SalePrice'], axis=1).select_dtypes(exclude=['object'])\n",
    "train_X, test_X, train_y, test_y = train_test_split(X.as_matrix(), y.as_matrix(), test_size=0.25)\n",
    "\n",
    "my_imputer = Imputer()\n",
    "train_X = my_imputer.fit_transform(train_X)\n",
    "test_X = my_imputer.transform(test_X)"
   ]
  },
  {
   "cell_type": "code",
   "execution_count": null,
   "metadata": {},
   "outputs": [],
   "source": [
    "from xgboost import XGBRegressor\n",
    "\n",
    "my_model = XGBRegressor()\n",
    "# Add silent=True to avoid printing out updates with each cycle\n",
    "my_model.fit(train_X, train_y, verbose=False)"
   ]
  },
  {
   "cell_type": "code",
   "execution_count": null,
   "metadata": {},
   "outputs": [],
   "source": [
    "# make predictions\n",
    "predictions = my_model.predict(test_X)\n",
    "\n",
    "from sklearn.metrics import mean_absolute_error\n",
    "print(\"Mean Absolute Error : \" + str(mean_absolute_error(predictions, test_y)))"
   ]
  },
  {
   "cell_type": "code",
   "execution_count": null,
   "metadata": {},
   "outputs": [],
   "source": [
    "my_model = XGBRegressor(n_estimators=1000)\n",
    "my_model.fit(train_X, train_y, early_stopping_rounds=5, \n",
    "             eval_set=[(test_X, test_y)], verbose=False)"
   ]
  },
  {
   "cell_type": "code",
   "execution_count": null,
   "metadata": {},
   "outputs": [],
   "source": [
    "my_model = XGBRegressor(n_estimators=1000, learning_rate=0.05)\n",
    "my_model.fit(train_X, train_y, early_stopping_rounds=5, \n",
    "             eval_set=[(test_X, test_y)], verbose=False)"
   ]
  },
  {
   "cell_type": "code",
   "execution_count": null,
   "metadata": {},
   "outputs": [],
   "source": [
    "from sklearn.ensemble.partial_dependence import partial_dependence, plot_partial_dependence\n",
    "\n",
    "# get_some_data is defined in hidden cell above.\n",
    "X, y = get_some_data()\n",
    "# scikit-learn originally implemented partial dependence plots only for Gradient Boosting models\n",
    "# this was due to an implementation detail, and a future release will support all model types.\n",
    "my_model = GradientBoostingRegressor()\n",
    "# fit the model as usual\n",
    "my_model.fit(X, y)\n",
    "# Here we make the plot\n",
    "my_plots = plot_partial_dependence(my_model,       \n",
    "                                   features=[0, 2], # column numbers of plots we want to show\n",
    "                                   X=X,            # raw predictors data.\n",
    "                                   feature_names=['Distance', 'Landsize', 'BuildingArea'], # labels on graphs\n",
    "                                   grid_resolution=10) # number of values to plot on x axis"
   ]
  },
  {
   "cell_type": "code",
   "execution_count": null,
   "metadata": {},
   "outputs": [],
   "source": [
    "titanic_data = pd.read_csv('../input/titanic/train.csv')\n",
    "titanic_y = titanic_data.Survived\n",
    "clf = GradientBoostingClassifier()\n",
    "titanic_X_colns = ['PassengerId','Age', 'Fare',]\n",
    "titanic_X = titanic_data[titanic_X_colns]\n",
    "my_imputer = Imputer()\n",
    "imputed_titanic_X = my_imputer.fit_transform(titanic_X)\n",
    "\n",
    "clf.fit(imputed_titanic_X, titanic_y)\n",
    "titanic_plots = plot_partial_dependence(clf, features=[1,2], X=imputed_titanic_X, \n",
    "                                        feature_names=titanic_X_colns, grid_resolution=8)"
   ]
  },
  {
   "cell_type": "code",
   "execution_count": null,
   "metadata": {},
   "outputs": [],
   "source": []
  }
 ],
 "metadata": {
  "kernelspec": {
   "display_name": "Python 3",
   "language": "python",
   "name": "python3"
  },
  "language_info": {
   "codemirror_mode": {
    "name": "ipython",
    "version": 3
   },
   "file_extension": ".py",
   "mimetype": "text/x-python",
   "name": "python",
   "nbconvert_exporter": "python",
   "pygments_lexer": "ipython3",
   "version": "3.6.0"
  }
 },
 "nbformat": 4,
 "nbformat_minor": 2
}
